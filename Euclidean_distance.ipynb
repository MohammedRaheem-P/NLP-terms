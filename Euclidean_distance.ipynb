{
  "nbformat": 4,
  "nbformat_minor": 0,
  "metadata": {
    "colab": {
      "name": "Euclidean_distance.ipynb",
      "provenance": [],
      "collapsed_sections": []
    },
    "kernelspec": {
      "name": "python3",
      "display_name": "Python 3"
    }
  },
  "cells": [
    {
      "cell_type": "markdown",
      "metadata": {
        "id": "7JRvfon8AZEe"
      },
      "source": [
        "**Euclidean Distance**"
      ]
    },
    {
      "cell_type": "markdown",
      "metadata": {
        "id": "As1j5F-rAhxd"
      },
      "source": [
        "* used to compare two vectors\n",
        "* expansion of pythagorous - for large dimensional vectors"
      ]
    },
    {
      "cell_type": "code",
      "metadata": {
        "colab": {
          "base_uri": "https://localhost:8080/"
        },
        "id": "zMwZz6maA0BQ",
        "outputId": "bab9b452-8226-4046-85bc-70eedb95a7a6"
      },
      "source": [
        "#eg\n",
        "#euclidean distance between a and b\n",
        "import numpy as np\n",
        "a=np.array([4,5,8,3,9])\n",
        "b=np.array([7,2,5,3,8])\n",
        "ed=np.linalg.norm(a-b)\n",
        "ed"
      ],
      "execution_count": 2,
      "outputs": [
        {
          "output_type": "execute_result",
          "data": {
            "text/plain": [
              "5.291502622129181"
            ]
          },
          "metadata": {
            "tags": []
          },
          "execution_count": 2
        }
      ]
    },
    {
      "cell_type": "code",
      "metadata": {
        "id": "Xtm9I2StBHpX"
      },
      "source": [
        ""
      ],
      "execution_count": null,
      "outputs": []
    }
  ]
}