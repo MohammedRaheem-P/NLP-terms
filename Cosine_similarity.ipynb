{
  "nbformat": 4,
  "nbformat_minor": 0,
  "metadata": {
    "colab": {
      "name": "Cosine similarity.ipynb",
      "provenance": [],
      "collapsed_sections": []
    },
    "kernelspec": {
      "name": "python3",
      "display_name": "Python 3"
    }
  },
  "cells": [
    {
      "cell_type": "markdown",
      "metadata": {
        "id": "TTrHiV3rDnKF"
      },
      "source": [
        "**Cosine Similarity**"
      ]
    },
    {
      "cell_type": "markdown",
      "metadata": {
        "id": "XtsapXDtDu7k"
      },
      "source": [
        "* to know how similar two vectors"
      ]
    },
    {
      "cell_type": "code",
      "metadata": {
        "colab": {
          "base_uri": "https://localhost:8080/"
        },
        "id": "RttTTMRoD27d",
        "outputId": "21482042-adf6-4019-d86a-3cf6aa3a74db"
      },
      "source": [
        "#eg\n",
        "import numpy as np\n",
        "a=np.array([30,60])\n",
        "b=np.array([45,23])\n",
        "cosine_similarity = ((np.dot(a,b))/((np.linalg.norm(a)) * (np.linalg.norm(b))))\n",
        "cosine_similarity"
      ],
      "execution_count": 4,
      "outputs": [
        {
          "output_type": "execute_result",
          "data": {
            "text/plain": [
              "0.8052782025829381"
            ]
          },
          "metadata": {
            "tags": []
          },
          "execution_count": 4
        }
      ]
    },
    {
      "cell_type": "code",
      "metadata": {
        "id": "J46rwSYYEW6w"
      },
      "source": [
        "#cos(theta)=0.805"
      ],
      "execution_count": 5,
      "outputs": []
    },
    {
      "cell_type": "code",
      "metadata": {
        "id": "9pQ0b1A3FFKk"
      },
      "source": [
        "#cos(90) = 0 .....dissimilar ----orthogonal\n",
        "#cos(0) =1 .....similar--------parallel"
      ],
      "execution_count": 7,
      "outputs": []
    },
    {
      "cell_type": "code",
      "metadata": {
        "id": "VeOz26SuFKXM"
      },
      "source": [
        ""
      ],
      "execution_count": null,
      "outputs": []
    }
  ]
}