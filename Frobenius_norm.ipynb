{
  "nbformat": 4,
  "nbformat_minor": 0,
  "metadata": {
    "colab": {
      "name": "Frobenius norm.ipynb",
      "provenance": [],
      "collapsed_sections": []
    },
    "kernelspec": {
      "name": "python3",
      "display_name": "Python 3"
    }
  },
  "cells": [
    {
      "cell_type": "markdown",
      "metadata": {
        "id": "JN6mWDOPJ59p"
      },
      "source": [
        " Frobenius norm"
      ]
    },
    {
      "cell_type": "code",
      "metadata": {
        "id": "LsQarmTQKA-t"
      },
      "source": [
        "import numpy as np"
      ],
      "execution_count": null,
      "outputs": []
    },
    {
      "cell_type": "code",
      "metadata": {
        "colab": {
          "base_uri": "https://localhost:8080/"
        },
        "id": "jVnpEHrXKPmS",
        "outputId": "fe2bc5b8-ed40-4dc2-cbbf-7363d5930b38"
      },
      "source": [
        "A=np.array([[2,3],[1,4]])\n",
        "A"
      ],
      "execution_count": null,
      "outputs": [
        {
          "output_type": "execute_result",
          "data": {
            "text/plain": [
              "array([[2, 3],\n",
              "       [1, 4]])"
            ]
          },
          "metadata": {
            "tags": []
          },
          "execution_count": 2
        }
      ]
    },
    {
      "cell_type": "code",
      "metadata": {
        "colab": {
          "base_uri": "https://localhost:8080/"
        },
        "id": "vxC-0nw2Kmz-",
        "outputId": "eff117d6-770e-42df-a7cc-019e18b2cd09"
      },
      "source": [
        "Frobenius_norm = np.sqrt(np.sum(np.square(A)))\n",
        "Frobenius_norm"
      ],
      "execution_count": null,
      "outputs": [
        {
          "output_type": "execute_result",
          "data": {
            "text/plain": [
              "5.477225575051661"
            ]
          },
          "metadata": {
            "tags": []
          },
          "execution_count": 3
        }
      ]
    }
  ]
}